{
 "cells": [
  {
   "cell_type": "code",
   "execution_count": 93,
   "id": "290f3f17",
   "metadata": {},
   "outputs": [],
   "source": [
    "fr = [1.3, 1.95, 2.466, 1.6, 2.952, 1.801, 1.34, 1.34, 1.63, 2.326, 2.436, 6.563, 1.283, 1.43, 1.988, 1.61, 1.921, 2.4, 1.495, 4.705]"
   ]
  },
  {
   "cell_type": "code",
   "execution_count": 94,
   "id": "6ffa9752",
   "metadata": {},
   "outputs": [],
   "source": [
    "l_exp = [76.84878, \n",
    "81.40732,\n",
    "77.57895,\n",
    "74.16341,\n",
    "68.84907,\n",
    "73.88595,\n",
    "75.26829,\n",
    "76.26098,\n",
    "80.57244,\n",
    "65.46259,\n",
    "67.5482,\n",
    "55.02451,\n",
    "76.2799,\n",
    "82.29024,\n",
    "69.80695,\n",
    "81.40112,\n",
    "82.19756,\n",
    "74.22683,\n",
    "80.12888,\n",
    "45.55095\n",
    "]"
   ]
  },
  {
   "cell_type": "markdown",
   "id": "6b432038",
   "metadata": {},
   "source": [
    "LIFE EXPECTANCY \n",
    "średnia:"
   ]
  },
  {
   "cell_type": "code",
   "execution_count": 111,
   "id": "034029f5",
   "metadata": {},
   "outputs": [
    {
     "name": "stdout",
     "output_type": "stream",
     "text": [
      "73.237646\n"
     ]
    }
   ],
   "source": [
    "suma = 0\n",
    "for x in l_exp:\n",
    "    suma += x\n",
    "mean_lex = sum/len(l_exp)\n",
    "print(mean_lex)"
   ]
  },
  {
   "cell_type": "markdown",
   "id": "8d0686cd",
   "metadata": {},
   "source": [
    "mediana:"
   ]
  },
  {
   "cell_type": "code",
   "execution_count": 41,
   "id": "dbea6706",
   "metadata": {},
   "outputs": [
    {
     "name": "stdout",
     "output_type": "stream",
     "text": [
      "75.764635\n"
     ]
    }
   ],
   "source": [
    "l_exp_sort = sorted(l_exp)\n",
    "mediana = (l_exp_sort[9] + l_exp_sort[10])/2\n",
    "print(mediana)"
   ]
  },
  {
   "cell_type": "markdown",
   "id": "1194dbc0",
   "metadata": {},
   "source": [
    "dominanta:"
   ]
  },
  {
   "cell_type": "code",
   "execution_count": 45,
   "id": "03929a94",
   "metadata": {},
   "outputs": [
    {
     "name": "stdout",
     "output_type": "stream",
     "text": [
      "Brak dominanty\n"
     ]
    }
   ],
   "source": [
    "freq = {}\n",
    "for x in l_exp:\n",
    "    if x in freq:\n",
    "        freq[x] += 1\n",
    "    else:\n",
    "        freq[x] = 1\n",
    "max_value = max(freq.values())\n",
    "if max_value > 1:\n",
    "    print(f'Dominanta to {max_value}')\n",
    "else:\n",
    "    print('Brak dominanty')\n"
   ]
  },
  {
   "cell_type": "markdown",
   "id": "d2eecd88",
   "metadata": {},
   "source": [
    "FERTILITY RATE średnia:"
   ]
  },
  {
   "cell_type": "code",
   "execution_count": 89,
   "id": "9178b6f8",
   "metadata": {},
   "outputs": [
    {
     "name": "stdout",
     "output_type": "stream",
     "text": [
      "2.2268\n"
     ]
    }
   ],
   "source": [
    "suma2 = 0\n",
    "for x in fr:\n",
    "    suma2 += x\n",
    "mean_fr = suma2/len(fr)\n",
    "print(mean_fr)"
   ]
  },
  {
   "cell_type": "markdown",
   "id": "76b15350",
   "metadata": {},
   "source": [
    "ODCHYLENIE STANDARDOWE"
   ]
  },
  {
   "cell_type": "code",
   "execution_count": 70,
   "id": "f2bac336",
   "metadata": {},
   "outputs": [
    {
     "name": "stdout",
     "output_type": "stream",
     "text": [
      "1.2904866727834035\n",
      "9.39117204599668\n"
     ]
    }
   ],
   "source": [
    "# FERTILITY RATE\n",
    "sum_kw_fr = 0\n",
    "for x in fr:\n",
    "    sum_kw_fr += (x - mean_fr)**2\n",
    "stdv_fr = (sum_kw_fr / (len(fr)-1))**(0.5)\n",
    "print(stdv_fr)\n",
    "\n",
    "# LIFE EXPECTANCY\n",
    "sum_kw_lex = 0\n",
    "for x in l_exp:\n",
    "    sum_kw_lex += (x - mean_lex)**2\n",
    "stdv_lex = (sum_kw_lex / (len(l_exp)-1))**(0.5)\n",
    "print(stdv_lex)"
   ]
  },
  {
   "cell_type": "markdown",
   "id": "3c7c9173",
   "metadata": {},
   "source": [
    "KOWARIANCJA"
   ]
  },
  {
   "cell_type": "code",
   "execution_count": 113,
   "id": "3835056f",
   "metadata": {},
   "outputs": [
    {
     "name": "stdout",
     "output_type": "stream",
     "text": [
      "-9.4465192243\n"
     ]
    }
   ],
   "source": [
    "# FERITLITY\n",
    "sum_fr = [(x - mean_fr) for x in fr]\n",
    "\n",
    "# lIFE EXP\n",
    "sum_lex = [(x - mean_lex) for x in l_exp]\n",
    "    \n",
    "xy = [x * y for x, y in zip(sum_fr, sum_lex)]\n",
    "\n",
    "sum_xy = 0\n",
    "for n in xy:\n",
    "    sum_xy += n\n",
    "cov = sum_xy/(len(fr))\n",
    "print(cov)"
   ]
  },
  {
   "cell_type": "markdown",
   "id": "3c1e5938",
   "metadata": {},
   "source": [
    "KORELACJA\n"
   ]
  },
  {
   "cell_type": "code",
   "execution_count": 100,
   "id": "6b04bac5",
   "metadata": {},
   "outputs": [
    {
     "name": "stdout",
     "output_type": "stream",
     "text": [
      "-0.7794683616517096\n"
     ]
    }
   ],
   "source": [
    "cor = cov/(stdv_fr * stdv_lex)\n",
    "print(cor)"
   ]
  },
  {
   "cell_type": "markdown",
   "id": "9c44395a",
   "metadata": {},
   "source": [
    "Bardzo wysoka korelacja ujemna -> Przy wzroście liczbie urodzeń maleje oczekiwana długość życia"
   ]
  },
  {
   "cell_type": "markdown",
   "id": "ebd3e216",
   "metadata": {},
   "source": [
    "ŚREDNIA DŁUGOŚĆ ŻYCIA"
   ]
  },
  {
   "cell_type": "code",
   "execution_count": 105,
   "id": "828c2e73",
   "metadata": {},
   "outputs": [],
   "source": [
    "stdev = 9.09\n",
    "z = 1.96\n",
    "n_pierw = 20**0.5\n",
    "p1 = mean_lex - (z * (stdev/(n_pierw)))\n",
    "p2 = mean_lex + (z * (stdev/(n_pierw)))"
   ]
  },
  {
   "cell_type": "code",
   "execution_count": 109,
   "id": "b86ed5b2",
   "metadata": {},
   "outputs": [
    {
     "data": {
      "text/plain": [
       "'Średnia oczekiwana długość życia w przedziale ufności 95% wynosi od 69 do 77 lat'"
      ]
     },
     "execution_count": 109,
     "metadata": {},
     "output_type": "execute_result"
    }
   ],
   "source": [
    "f'Średnia oczekiwana długość życia w przedziale ufności 95% wynosi od {p1:.0f} do {p2:.0f} lat'"
   ]
  }
 ],
 "metadata": {
  "kernelspec": {
   "display_name": "Python 3 (ipykernel)",
   "language": "python",
   "name": "python3"
  },
  "language_info": {
   "codemirror_mode": {
    "name": "ipython",
    "version": 3
   },
   "file_extension": ".py",
   "mimetype": "text/x-python",
   "name": "python",
   "nbconvert_exporter": "python",
   "pygments_lexer": "ipython3",
   "version": "3.9.7"
  }
 },
 "nbformat": 4,
 "nbformat_minor": 5
}
